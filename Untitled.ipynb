{
 "cells": [
  {
   "cell_type": "code",
   "execution_count": 1,
   "metadata": {},
   "outputs": [
    {
     "name": "stderr",
     "output_type": "stream",
     "text": [
      "Using TensorFlow backend.\n"
     ]
    }
   ],
   "source": [
    "### FINAL PROJECT ###\n",
    "\n",
    "# The main function #\n",
    "\n",
    "######Set up and check GPU########\n",
    "import tensorflow as tf\n",
    "# device_name = tf.test.gpu_device_name()\n",
    "# if device_name != '/device:GPU:0':\n",
    "#   raise SystemError('GPU device not found')\n",
    "# print('Found GPU at: {}'.format(device_name))\n",
    "\n",
    "\n",
    "####Set Up Keras######\n",
    "from keras.models import Sequential\n",
    "from keras.layers import Dense, Dropout\n",
    "from keras.utils import plot_model\n",
    "# import graphviz\n",
    "import numpy\n",
    "# set the seed for reproducibility\n",
    "#numpy.random.seed(7)\n",
    "\n",
    "#######Load Data as DF#######  \n",
    "dataset = dataset = numpy.loadtxt(\"poker_data_clean.csv\", delimiter=\",\",skiprows=1)\n",
    "# SHUFFLE the rows\n",
    "numpy.random.shuffle(dataset)"
   ]
  },
  {
   "cell_type": "code",
   "execution_count": null,
   "metadata": {},
   "outputs": [],
   "source": [
    "from main import *\n",
    "import io\n",
    "\n",
    "# Create training set\n",
    "# split into input (X) and output (Y) variables\n",
    "X = dataset[0:17000,7:73]\n",
    "Y = dataset[0:17000,73:79]\n",
    "\n",
    "# Create test set\n",
    "Xtest = dataset[17000:34000,7:73]\n",
    "Ytest = dataset[17000:34000,73:79]\n",
    "\n",
    "\n",
    "\"\"\"# Section 1: Set up the Model\"\"\"\n",
    "\n",
    "# First create Model for all of our data\n",
    "model = Sequential()\n",
    "model.add(Dense(100,input_dim=66, activation='relu'))\n",
    "model.add(Dropout(0.5))\n",
    "model.add(Dense(40, input_dim=66, activation='relu'))\n",
    "model.add(Dropout(0.5))\n",
    "model.add(Dense(16,activation='relu'))\n",
    "model.add(Dropout(0.5))\n",
    "model.add(Dense(6, activation='softmax'))\n",
    "\n",
    "# Compile model\n",
    "model.compile(loss='categorical_crossentropy', optimizer= 'AdaGrad', metrics=['categorical_accuracy'])\n",
    "\n",
    "# Fit the model\n",
    "model.fit(X, Y, epochs=250, batch_size=32)\n",
    "\n",
    "b = model.predict_classes(x= X, batch_size= 32)\n",
    "\n",
    "# evaluate the model\n",
    "scores = model.evaluate(Xtest, Ytest)\n",
    "print(\"\\n%s: %.2f%%\" % (model.metrics_names[1], scores[1]*100))\n"
   ]
  },
  {
   "cell_type": "code",
   "execution_count": null,
   "metadata": {},
   "outputs": [],
   "source": []
  }
 ],
 "metadata": {
  "kernelspec": {
   "display_name": "Python 3",
   "language": "python",
   "name": "python3"
  },
  "language_info": {
   "codemirror_mode": {
    "name": "ipython",
    "version": 3
   },
   "file_extension": ".py",
   "mimetype": "text/x-python",
   "name": "python",
   "nbconvert_exporter": "python",
   "pygments_lexer": "ipython3",
   "version": "3.6.2"
  }
 },
 "nbformat": 4,
 "nbformat_minor": 2
}
